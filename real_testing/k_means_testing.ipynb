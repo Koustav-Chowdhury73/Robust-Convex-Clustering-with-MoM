{
 "cells": [
  {
   "cell_type": "code",
   "execution_count": null,
   "id": "7498f89b-1042-4383-990a-076782890cae",
   "metadata": {},
   "outputs": [],
   "source": [
    "import csv\n",
    "import numpy as np\n",
    "import matplotlib.pyplot as plt\n",
    "import scipy.io as spi\n",
    "import sklearn.preprocessing as skp\n",
    "import sklearn.metrics as skmt\n",
    "rng = np.random.default_rng(0)\n",
    "scaler = skp.StandardScaler()"
   ]
  },
  {
   "cell_type": "code",
   "execution_count": null,
   "id": "2d9a6abd-ba87-4001-bddf-165821b79574",
   "metadata": {},
   "outputs": [],
   "source": [
    "dataset = \"segment\""
   ]
  },
  {
   "cell_type": "code",
   "execution_count": null,
   "id": "6fc9b280-ac75-43e8-886f-1e826a44f17e",
   "metadata": {},
   "outputs": [],
   "source": [
    "file = open(dataset + \".csv\", \"w\")\n",
    "csvwriter = csv.writer(file)\n",
    "csvwriter.writerow([\"k*\", \"ari\", \"nnmi\"])\n",
    "file.close()"
   ]
  },
  {
   "cell_type": "code",
   "execution_count": null,
   "id": "cc0bc27c-58ab-45f8-8b3d-1044022b0e29",
   "metadata": {},
   "outputs": [],
   "source": [
    "temp_data = np.loadtxt(\"keel_datasets/\" + dataset + \".dat\", dtype = str, delimiter = \",\", comments = \"@\")\n",
    "data = np.array(temp_data[:, :-1], dtype = float)\n",
    "label = skp.LabelEncoder().fit_transform(temp_data[:, -1])"
   ]
  },
  {
   "cell_type": "raw",
   "id": "f7392de7-a34a-4a2b-98dc-e55c2c0987c8",
   "metadata": {},
   "source": [
    "temp_data = np.loadtxt(\"microarray_datasets/\" + dataset + \".x.txt\")\n",
    "data = temp_data.T\n",
    "label = np.loadtxt(\"microarray_datasets/\" + dataset + \".y.txt\")"
   ]
  },
  {
   "cell_type": "raw",
   "id": "ea45a961-6f1b-47ac-815f-1d2d1438555d",
   "metadata": {},
   "source": [
    "temp_data = spi.loadmat(\"asu_datasets/\" + dataset + \".mat\")\n",
    "data = temp_data[\"X\"]\n",
    "label = temp_data[\"Y\"].flatten()"
   ]
  },
  {
   "cell_type": "code",
   "execution_count": null,
   "id": "497d3067-dd40-4dc4-b2ff-c41be3cbae0e",
   "metadata": {},
   "outputs": [],
   "source": [
    "n, d = data.shape\n",
    "p = 0.1\n",
    "k_max = 2 * np.unique(label).shape[0]\n",
    "B_ = 25\n",
    "\n",
    "t = np.arange(n)"
   ]
  },
  {
   "cell_type": "code",
   "execution_count": null,
   "id": "36122681-b19b-4986-b35b-9a6d590cba8d",
   "metadata": {},
   "outputs": [],
   "source": [
    "def add_noise(X):\n",
    "    n, d = X.shape\n",
    "    r = int(p * n)\n",
    "    noise = rng.uniform(0, 1, (r, d))\n",
    "    noise = X.min(0) + (X.max(0) - X.min(0)) * noise\n",
    "    X = np.concatenate((X, noise))\n",
    "    X = scaler.fit_transform(X)\n",
    "    return X"
   ]
  },
  {
   "cell_type": "code",
   "execution_count": null,
   "id": "8920708b-f445-4e77-8a4a-269d5a054896",
   "metadata": {},
   "outputs": [],
   "source": [
    "def calculate_U(X, V):\n",
    "    n, d = X.shape\n",
    "    U = np.zeros(n)\n",
    "    for i in range(n):\n",
    "        dist = ((X[i] - V) * (X[i] - V)).sum(1)\n",
    "        j = dist.argmin()\n",
    "        U[i] = j\n",
    "    return U"
   ]
  },
  {
   "cell_type": "code",
   "execution_count": null,
   "id": "ab5de94f-60da-4248-ab01-a7f9d0a12208",
   "metadata": {},
   "outputs": [],
   "source": [
    "def calculate_V(X, U, k):\n",
    "    n, d = X.shape\n",
    "    V = np.zeros([k, d])\n",
    "    for j in range(k):\n",
    "        index = np.where(U == j)[0]\n",
    "        r = index.shape[0]\n",
    "        if r == 0:\n",
    "            V[j] = rng.choice(X)\n",
    "        else:\n",
    "            for i in index:\n",
    "                V[j] = V[j] + X[i]\n",
    "            V[j] = V[j] / r\n",
    "    return V"
   ]
  },
  {
   "cell_type": "code",
   "execution_count": null,
   "id": "ecb5e769-b5d3-4d4a-b9cd-cb0559168f91",
   "metadata": {},
   "outputs": [],
   "source": [
    "def k_means(X, k):\n",
    "    n, d = X.shape\n",
    "    U = np.zeros(n)\n",
    "    V = rng.choice(X, k)\n",
    "    \n",
    "    condition = True\n",
    "    while(condition):\n",
    "        temp = np.copy(U)\n",
    "        U = calculate_U(X, V)\n",
    "        V = calculate_V(X, U, k)\n",
    "        condition = not np.array_equal(U, temp)\n",
    "\n",
    "    return U"
   ]
  },
  {
   "cell_type": "code",
   "execution_count": null,
   "id": "8d2abac9-5946-448a-91e1-f73f1bc058db",
   "metadata": {},
   "outputs": [],
   "source": [
    "def calculate_W(X, k_max):\n",
    "    W = np.zeros(k_max)\n",
    "\n",
    "    for k in range(k_max):\n",
    "        valid = False\n",
    "        while not valid:\n",
    "            Z = k_means(X, k + 1)\n",
    "            valid = True\n",
    "            for r in range(k + 1):\n",
    "                I = np.where(Z == r)[0]\n",
    "                nr = I.shape[0]\n",
    "                if nr == 0:\n",
    "                    valid = False\n",
    "                    break\n",
    "        for r in range(k + 1):\n",
    "            I = np.where(Z == r)[0]\n",
    "            nr = I.shape[0]\n",
    "            Dr = 0\n",
    "            for i in range(nr):\n",
    "                for j in range(i + 1, nr):\n",
    "                    Dr = Dr + ((X[I[i]] - X[I[j]]) * (X[I[i]] - X[I[j]])).sum()\n",
    "            W[k] = W[k] + (Dr / (2 * nr))\n",
    "\n",
    "    return W"
   ]
  },
  {
   "cell_type": "code",
   "execution_count": null,
   "id": "f9ff64e9-9c52-47c1-9212-62bd6e6cb310",
   "metadata": {},
   "outputs": [],
   "source": [
    "def calculate_optimal(X):\n",
    "    n, d = X.shape\n",
    "    W = calculate_W(X, k_max)\n",
    "\n",
    "    W_B = np.zeros([B_, k_max])\n",
    "    for b in range(B_):\n",
    "        X_b = rng.uniform(0, 1, (n, d))\n",
    "        X_b = X.min(0) + (X.max(0) - X.min(0)) * X_b\n",
    "        W_B[b] = calculate_W(X_b, k_max)\n",
    "\n",
    "    k_opt = 1\n",
    "\n",
    "    gap = (np.log(W_B[:, 0])).mean() - np.log(W[0])\n",
    "    sd = ((np.log(W_B[:, 0]) - (np.log(W_B[:, 0])).mean()) ** 2).mean()\n",
    "    s = sd * np.sqrt(1 + (1 / B_))\n",
    "    for k in range(1, k_max):\n",
    "        prev_gap = gap\n",
    "        prev_sd = sd\n",
    "        prev_s = s\n",
    "        gap = (np.log(W_B[:, k])).mean() - np.log(W[k])\n",
    "        sd = ((np.log(W_B[:, k]) - (np.log(W_B[:, k])).mean()) ** 2).mean()\n",
    "        s = sd * np.sqrt(1 + (1 / B_))\n",
    "        if prev_gap > gap - s:\n",
    "            k_opt = k\n",
    "            break\n",
    "\n",
    "    return k_opt"
   ]
  },
  {
   "cell_type": "code",
   "execution_count": null,
   "id": "18e4d47b-d59f-4416-8488-32cababb982d",
   "metadata": {},
   "outputs": [],
   "source": [
    "k_star = []\n",
    "ari = []\n",
    "nnmi = []\n",
    "\n",
    "for m in range(75):\n",
    "    \n",
    "    if m % 5 == 0:\n",
    "        X = add_noise(data)\n",
    "        X = scaler.fit_transform(X)\n",
    "        n, d = X.shape\n",
    "        k_opt = calculate_optimal(X)\n",
    "        print()\n",
    "        \n",
    "    Z = k_means(X, k_opt)\n",
    "    Z = Z[t]\n",
    "\n",
    "    k_star.append(np.unique(Z).shape[0])\n",
    "    ari.append(skmt.adjusted_rand_score(label, Z))\n",
    "    nnmi.append(skmt.adjusted_mutual_info_score(label, Z))\n",
    "\n",
    "    print((m + 1), end = \" \")"
   ]
  },
  {
   "cell_type": "code",
   "execution_count": null,
   "id": "0f49c370-3e23-489b-9f19-78664c6a78cf",
   "metadata": {},
   "outputs": [],
   "source": [
    "file = open(dataset + \".csv\", \"a\")\n",
    "csvwriter = csv.writer(file)\n",
    "for m in range(m):\n",
    "    csvwriter.writerow([k_star[m], ari[m], nnmi[m]])\n",
    "file.close()"
   ]
  }
 ],
 "metadata": {
  "kernelspec": {
   "display_name": "Python 3 (ipykernel)",
   "language": "python",
   "name": "python3"
  },
  "language_info": {
   "codemirror_mode": {
    "name": "ipython",
    "version": 3
   },
   "file_extension": ".py",
   "mimetype": "text/x-python",
   "name": "python",
   "nbconvert_exporter": "python",
   "pygments_lexer": "ipython3",
   "version": "3.12.5"
  }
 },
 "nbformat": 4,
 "nbformat_minor": 5
}
