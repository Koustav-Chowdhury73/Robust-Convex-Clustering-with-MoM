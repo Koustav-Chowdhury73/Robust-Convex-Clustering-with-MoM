{
 "cells": [
  {
   "cell_type": "code",
   "execution_count": null,
   "id": "7498f89b-1042-4383-990a-076782890cae",
   "metadata": {},
   "outputs": [],
   "source": [
    "import csv\n",
    "import numpy as np\n",
    "import matplotlib.pyplot as plt\n",
    "import scipy.io as spi\n",
    "import sklearn.preprocessing as skp\n",
    "import sklearn.neighbors as skn\n",
    "import sklearn.metrics as skmt\n",
    "import scipy.sparse as spr\n",
    "rng = np.random.default_rng(0)\n",
    "scaler = skp.StandardScaler()"
   ]
  },
  {
   "cell_type": "code",
   "execution_count": null,
   "id": "ed9ab633-2100-4b48-a5b7-c98c47b8f81b",
   "metadata": {},
   "outputs": [],
   "source": [
    "dataset = \"newthyroid\""
   ]
  },
  {
   "cell_type": "code",
   "execution_count": null,
   "id": "1824f2d7-b9bd-44b8-b3e3-9a279d5a20e4",
   "metadata": {},
   "outputs": [],
   "source": [
    "file = open(dataset + \".csv\", \"w\")\n",
    "csvwriter = csv.writer(file)\n",
    "csvwriter.writerow([\"k*\", \"ari\", \"nnmi\"])\n",
    "file.close()"
   ]
  },
  {
   "cell_type": "code",
   "execution_count": null,
   "id": "d6dc3248-592a-4da8-9792-9455ad6b25f9",
   "metadata": {},
   "outputs": [],
   "source": [
    "alpha = 0.5\n",
    "beta1 = 0.9\n",
    "beta2 = 0.999\n",
    "epsilon = 10 ** (-8)"
   ]
  },
  {
   "cell_type": "code",
   "execution_count": null,
   "id": "0bae42b8-0c30-4a85-aa4e-a225ebe41e11",
   "metadata": {},
   "outputs": [],
   "source": [
    "temp_data = np.loadtxt(\"keel_datasets/\" + dataset + \".dat\", dtype = str, delimiter = \",\", comments = \"@\")\n",
    "data = np.array(temp_data[:, :-1], dtype = float)\n",
    "label = skp.LabelEncoder().fit_transform(temp_data[:, -1])"
   ]
  },
  {
   "cell_type": "raw",
   "id": "cf22afff-3c2d-4eb8-8e3e-0d58421ce918",
   "metadata": {},
   "source": [
    "temp_data = np.loadtxt(\"microarray_datasets/\" + dataset + \".x.txt\")\n",
    "data = temp_data.T\n",
    "label = np.loadtxt(\"microarray_datasets/\" + dataset + \".y.txt\")"
   ]
  },
  {
   "cell_type": "raw",
   "id": "be929625-faf8-446c-a02e-e4c4ec62675a",
   "metadata": {},
   "source": [
    "temp_data = spi.loadmat(\"asu_datasets/\" + dataset + \"ORL.mat\")\n",
    "data = temp_data[\"X\"]\n",
    "label = temp_data[\"Y\"].flatten()"
   ]
  },
  {
   "cell_type": "code",
   "execution_count": null,
   "id": "06a35594-33c4-416b-895e-2fd951dde6ce",
   "metadata": {},
   "outputs": [],
   "source": [
    "n, d = data.shape\n",
    "p = 0.1\n",
    "gamma = 50000\n",
    "mu = 100\n",
    "k = 45\n",
    "phi = 0.01\n",
    "l = n // 20\n",
    "b = n // l\n",
    "N = 100\n",
    "tol1 = 0.02\n",
    "tol2 = 0.5\n",
    "\n",
    "t = np.arange(n)"
   ]
  },
  {
   "cell_type": "code",
   "execution_count": null,
   "id": "b9e6b207-653f-4e13-8603-8051c035935d",
   "metadata": {},
   "outputs": [],
   "source": [
    "def add_noise(X):\n",
    "    n, d = X.shape\n",
    "    r = int(p * n)\n",
    "    noise = rng.uniform(0, 1, (r, d))\n",
    "    noise = X.min(0) + (X.max(0) - X.min(0)) * noise\n",
    "    X = np.concatenate((X, noise))\n",
    "    X = scaler.fit_transform(X)\n",
    "    return X"
   ]
  },
  {
   "cell_type": "code",
   "execution_count": null,
   "id": "cb54928d-91b7-4a37-bea7-b34c644630e5",
   "metadata": {},
   "outputs": [],
   "source": [
    "def calculate_W(X):\n",
    "    n = X.shape[0]\n",
    "    W = skn.kneighbors_graph(X, n_neighbors = k, mode = \"distance\")\n",
    "    W = W.toarray()\n",
    "\n",
    "    for i in range(n):\n",
    "        for j in range(i + 1, n):\n",
    "            if W[i, j] > 0:\n",
    "                W[i, j] = np.exp((-phi) * W[i, j])\n",
    "                W[j, i] = W[i, j]\n",
    "    \n",
    "    return W"
   ]
  },
  {
   "cell_type": "code",
   "execution_count": null,
   "id": "f7f679c5-c4a9-47c2-9d61-f568eddfbd18",
   "metadata": {},
   "outputs": [],
   "source": [
    "def find_median(X, U, B):\n",
    "    l = B.shape[0]\n",
    "    cost = np.zeros(l)\n",
    "    for i in range(l):\n",
    "        for j in B[i]:\n",
    "            cost[i] = cost[i] + ((U[j] - X[j]) * (U[j] - X[j])).sum()\n",
    "    lt = np.where(cost >= np.median(cost))[0][0]\n",
    "    return lt"
   ]
  },
  {
   "cell_type": "code",
   "execution_count": null,
   "id": "35f4154b-3e09-46e3-b89a-b60c6b10af65",
   "metadata": {},
   "outputs": [],
   "source": [
    "def calculate_grad(X, U, BI):\n",
    "    n, d = U.shape\n",
    "    grad = np.zeros([n, d])\n",
    "    for j in range(n):\n",
    "        if j in BI:\n",
    "            grad[j] = grad[j] + (U[j] - X[j]) / b\n",
    "        for i in np.where(W[j] > 0)[0]:\n",
    "            if ((U[j] - U[i]) * (U[j] - U[i])).sum() < mu:\n",
    "                grad[j] = grad[j] + (gamma * W[i, j]) * (U[j] - U[i])\n",
    "    return grad"
   ]
  },
  {
   "cell_type": "code",
   "execution_count": null,
   "id": "35739355-be55-47d6-8c30-c02f4b8ed482",
   "metadata": {},
   "outputs": [],
   "source": [
    "k_star = []\n",
    "ari = []\n",
    "nnmi = []\n",
    "\n",
    "for m in range(15):\n",
    "    \n",
    "    X = add_noise(data)\n",
    "    X = scaler.fit_transform(X)\n",
    "    \n",
    "    n, d = X.shape\n",
    "    W = calculate_W(X)\n",
    "    \n",
    "    U = np.copy(X)\n",
    "    M = np.zeros([n, d])\n",
    "    V = np.zeros([n, d])\n",
    "\n",
    "    for i in range(1, N + 1):\n",
    "        temp = rng.permutation(np.arange(l * b))\n",
    "        B = np.array(np.split(temp, l))\n",
    "        lt = find_median(X, U, B)\n",
    "        G = calculate_grad(X, U, B[lt])\n",
    "        M = beta1 * M + (1 - beta1) * G\n",
    "        V = beta2 * V + (1 - beta2) * (G * G).sum()\n",
    "        M_hat = M / (1 - beta1 ** i)\n",
    "        V_hat = V / (1 - beta2 ** i)\n",
    "        U = U - (alpha * M_hat) / np.sqrt(V_hat + epsilon)\n",
    "\n",
    "    W_U = skmt.pairwise_distances(U) ** 2\n",
    "    eta = tol1 * (W_U.sum() / (n ** 2))\n",
    "\n",
    "    adj = (W_U <= eta).astype(int)\n",
    "    temp = spr.csr_matrix(adj)\n",
    "    r, Z = spr.csgraph.connected_components(temp, directed = False)\n",
    "\n",
    "    temp_Z = np.unique(Z)\n",
    "    r = temp_Z.shape[0]\n",
    "    eta = tol2 * (n / r)\n",
    "\n",
    "    for i in range(r):\n",
    "        temp = np.where(Z == temp_Z[i])[0]\n",
    "        if temp.shape[0] <= eta:\n",
    "            Z[temp] = -1\n",
    "\n",
    "    Z = Z[t]\n",
    "\n",
    "    k_star.append(np.unique(Z).shape[0])\n",
    "    ari.append(skmt.adjusted_rand_score(label, Z))\n",
    "    nnmi.append(skmt.adjusted_mutual_info_score(label, Z))\n",
    "\n",
    "    print((m + 1), end = \" \")"
   ]
  },
  {
   "cell_type": "code",
   "execution_count": null,
   "id": "892dbdb5-e693-42dd-a199-3d84c8b0dff5",
   "metadata": {},
   "outputs": [],
   "source": [
    "file = open(dataset + \".csv\", \"a\")\n",
    "csvwriter = csv.writer(file)\n",
    "for m in range(m):\n",
    "    csvwriter.writerow([k_star[m], ari[m], nnmi[m]])\n",
    "file.close()"
   ]
  }
 ],
 "metadata": {
  "kernelspec": {
   "display_name": "Python 3 (ipykernel)",
   "language": "python",
   "name": "python3"
  },
  "language_info": {
   "codemirror_mode": {
    "name": "ipython",
    "version": 3
   },
   "file_extension": ".py",
   "mimetype": "text/x-python",
   "name": "python",
   "nbconvert_exporter": "python",
   "pygments_lexer": "ipython3",
   "version": "3.12.5"
  }
 },
 "nbformat": 4,
 "nbformat_minor": 5
}
