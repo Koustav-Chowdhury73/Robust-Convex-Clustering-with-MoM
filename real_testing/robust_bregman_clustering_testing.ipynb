{
 "cells": [
  {
   "cell_type": "code",
   "execution_count": null,
   "id": "7498f89b-1042-4383-990a-076782890cae",
   "metadata": {},
   "outputs": [],
   "source": [
    "import csv\n",
    "import numpy as np\n",
    "import matplotlib.pyplot as plt\n",
    "import scipy.io as spi\n",
    "import sklearn.preprocessing as skp\n",
    "import sklearn.metrics as skmt\n",
    "rng = np.random.default_rng(0)\n",
    "scaler = skp.StandardScaler()"
   ]
  },
  {
   "cell_type": "code",
   "execution_count": null,
   "id": "47b640a3-ad94-44dc-b995-49080bdc3298",
   "metadata": {},
   "outputs": [],
   "source": [
    "dataset = \"wisconsin\""
   ]
  },
  {
   "cell_type": "code",
   "execution_count": null,
   "id": "a43ecc31-4deb-4142-a32d-f1f803d13bb2",
   "metadata": {},
   "outputs": [],
   "source": [
    "file = open(dataset + \".csv\", \"w\")\n",
    "csvwriter = csv.writer(file)\n",
    "csvwriter.writerow([\"k*\", \"ari\", \"nnmi\"])\n",
    "file.close()"
   ]
  },
  {
   "cell_type": "code",
   "execution_count": null,
   "id": "b7635070-3ae4-4433-8179-d94092c541ed",
   "metadata": {},
   "outputs": [],
   "source": [
    "temp_data = np.loadtxt(\"keel_datasets/\" + dataset + \".dat\", dtype = str, delimiter = \",\", comments = \"@\")\n",
    "data = np.array(temp_data[:, :-1], dtype = float)\n",
    "label = skp.LabelEncoder().fit_transform(temp_data[:, -1])"
   ]
  },
  {
   "cell_type": "raw",
   "id": "65d2a239-e7e8-4c86-a8e2-f78709acf8a9",
   "metadata": {},
   "source": [
    "temp_data = np.loadtxt(\"microarray_datasets/\" + dataset + \".x.txt\")\n",
    "data = temp_data.T\n",
    "label = np.loadtxt(\"microarray_datasets/\" + dataset + \".y.txt\")"
   ]
  },
  {
   "cell_type": "raw",
   "id": "0b9e0478-1cf9-4a64-95e3-764a2a50ed08",
   "metadata": {},
   "source": [
    "temp_data = spi.loadmat(\"asu_datasets/\" + dataset + \"ORL.mat\")\n",
    "data = temp_data[\"X\"]\n",
    "label = temp_data[\"Y\"].flatten()"
   ]
  },
  {
   "cell_type": "code",
   "execution_count": null,
   "id": "06a35594-33c4-416b-895e-2fd951dde6ce",
   "metadata": {},
   "outputs": [],
   "source": [
    "n, d = data.shape\n",
    "p = 0.0\n",
    "k_max = 2 * np.unique(label).shape[0]\n",
    "B_ = 25\n",
    "q = n - 1\n",
    "\n",
    "t = np.arange(n)"
   ]
  },
  {
   "cell_type": "code",
   "execution_count": null,
   "id": "b9e6b207-653f-4e13-8603-8051c035935d",
   "metadata": {},
   "outputs": [],
   "source": [
    "def add_noise(X):\n",
    "    n, d = X.shape\n",
    "    r = int(p * n)\n",
    "    noise = rng.uniform(0, 1, (r, d))\n",
    "    noise = X.min(0) + (X.max(0) - X.min(0)) * noise\n",
    "    X = np.concatenate((X, noise))\n",
    "    X = scaler.fit_transform(X)\n",
    "    return X"
   ]
  },
  {
   "cell_type": "code",
   "execution_count": null,
   "id": "4ee10ca6-2caa-431c-a445-5b55f0fb7597",
   "metadata": {},
   "outputs": [],
   "source": [
    "def calculate_U(X, V):\n",
    "    n, d = X.shape\n",
    "    U = np.zeros(n)\n",
    "    for i in range(n):\n",
    "        dist = ((X[i] - V) * (X[i] - V)).sum(1)\n",
    "        j = dist.argmin()\n",
    "        U[i] = j\n",
    "    return U"
   ]
  },
  {
   "cell_type": "code",
   "execution_count": null,
   "id": "08eb2060-b4a6-420e-8235-461c6b5d4972",
   "metadata": {},
   "outputs": [],
   "source": [
    "def calculate_V(X, U, k):\n",
    "    n, d = X.shape\n",
    "    V = np.zeros([k, d])\n",
    "    for j in range(k):\n",
    "        index = np.where(U == j)[0]\n",
    "        r = index.shape[0]\n",
    "        if r == 0:\n",
    "            V[j] = rng.choice(X)\n",
    "        else:\n",
    "            for i in index:\n",
    "                V[j] = V[j] + X[i]\n",
    "            V[j] = V[j] / r\n",
    "    return V"
   ]
  },
  {
   "cell_type": "code",
   "execution_count": null,
   "id": "f059396c-7ad7-4e3d-9ad5-2e902f09ca6b",
   "metadata": {},
   "outputs": [],
   "source": [
    "def k_means(X, k):\n",
    "    n, d = X.shape\n",
    "    U = np.zeros(n)\n",
    "    V = rng.choice(X, k)\n",
    "    \n",
    "    condition = True\n",
    "    while(condition):\n",
    "        temp = np.copy(U)\n",
    "        U = calculate_U(X, V)\n",
    "        V = calculate_V(X, U, k)\n",
    "        condition = not np.array_equal(U, temp)\n",
    "\n",
    "    return U"
   ]
  },
  {
   "cell_type": "code",
   "execution_count": null,
   "id": "d9f271ac-545b-416c-9d3c-c3d347d9834d",
   "metadata": {},
   "outputs": [],
   "source": [
    "def calculate_W(X, k_max):\n",
    "    W = np.zeros(k_max)\n",
    "\n",
    "    for k in range(k_max):\n",
    "        valid = False\n",
    "        while not valid:\n",
    "            Z = k_means(X, k + 1)\n",
    "            valid = True\n",
    "            for r in range(k + 1):\n",
    "                I = np.where(Z == r)[0]\n",
    "                nr = I.shape[0]\n",
    "                if nr == 0:\n",
    "                    valid = False\n",
    "                    break\n",
    "        for r in range(k + 1):\n",
    "            I = np.where(Z == r)[0]\n",
    "            nr = I.shape[0]\n",
    "            Dr = 0\n",
    "            for i in range(nr):\n",
    "                for j in range(i + 1, nr):\n",
    "                    Dr = Dr + ((X[I[i]] - X[I[j]]) * (X[I[i]] - X[I[j]])).sum()\n",
    "            W[k] = W[k] + (Dr / (2 * nr))\n",
    "\n",
    "    return W"
   ]
  },
  {
   "cell_type": "code",
   "execution_count": null,
   "id": "82ce6e43-af9f-4592-b66f-aec946667065",
   "metadata": {},
   "outputs": [],
   "source": [
    "def calculate_optimal(X):\n",
    "    n, d = X.shape\n",
    "    W = calculate_W(X, k_max)\n",
    "\n",
    "    W_B = np.zeros([B_, k_max])\n",
    "    for b in range(B_):\n",
    "        X_b = rng.uniform(0, 1, (n, d))\n",
    "        X_b = X.min(0) + (X.max(0) - X.min(0)) * X_b\n",
    "        W_B[b] = calculate_W(X_b, k_max)\n",
    "\n",
    "    k_opt = 1\n",
    "\n",
    "    gap = (np.log(W_B[:, 0])).mean() - np.log(W[0])\n",
    "    sd = ((np.log(W_B[:, 0]) - (np.log(W_B[:, 0])).mean()) ** 2).mean()\n",
    "    s = sd * np.sqrt(1 + (1 / B_))\n",
    "    for k in range(1, k_max):\n",
    "        prev_gap = gap\n",
    "        prev_sd = sd\n",
    "        prev_s = s\n",
    "        gap = (np.log(W_B[:, k])).mean() - np.log(W[k])\n",
    "        sd = ((np.log(W_B[:, k]) - (np.log(W_B[:, k])).mean()) ** 2).mean()\n",
    "        s = sd * np.sqrt(1 + (1 / B_))\n",
    "        if prev_gap > gap - s:\n",
    "            k_opt = k\n",
    "            break\n",
    "\n",
    "    return k_opt"
   ]
  },
  {
   "cell_type": "code",
   "execution_count": null,
   "id": "6afaedc0-979e-472a-bea7-7728863a4945",
   "metadata": {},
   "outputs": [],
   "source": [
    "def d_phi(x, y):\n",
    "    return (x * np.log(x / y)).sum() - (x - y).sum()"
   ]
  },
  {
   "cell_type": "code",
   "execution_count": null,
   "id": "a1372ece-f25f-4af5-84b2-60bcf1c79c45",
   "metadata": {},
   "outputs": [],
   "source": [
    "def calculate_I(X, q, V, k):\n",
    "    n, d = X.shape\n",
    "    dist = np.zeros(n)\n",
    "    for i in range(n):\n",
    "        temp = np.zeros(k)\n",
    "        for j in range(k):\n",
    "            temp = d_phi(X[i], V[j])\n",
    "        dist[i] = temp.min()\n",
    "    I = np.argpartition(dist, q)[: q]\n",
    "    return I"
   ]
  },
  {
   "cell_type": "code",
   "execution_count": null,
   "id": "a0e666a0-97d3-45a4-9b07-543bc32765a4",
   "metadata": {},
   "outputs": [],
   "source": [
    "def calculate_Z(X, I, V, k):\n",
    "    n, d = X.shape\n",
    "    Z = np.zeros(n)\n",
    "    Z.fill(k)\n",
    "    for i in I:\n",
    "        dist = np.zeros(k)\n",
    "        for j in range(k):\n",
    "            dist = d_phi(X[i], V[j])\n",
    "        j = dist.argmin()\n",
    "        Z[i] = j\n",
    "    return Z"
   ]
  },
  {
   "cell_type": "code",
   "execution_count": null,
   "id": "35739355-be55-47d6-8c30-c02f4b8ed482",
   "metadata": {},
   "outputs": [],
   "source": [
    "k_star = []\n",
    "ari = []\n",
    "nnmi = []\n",
    "\n",
    "for m in range(75):\n",
    "    \n",
    "    if m % 5 == 0:\n",
    "        X = add_noise(data)\n",
    "        X = X - X.min(0) + 1\n",
    "        n, d = X.shape\n",
    "        k_opt = calculate_optimal(X)\n",
    "        print()\n",
    "    \n",
    "    Z = np.zeros(n)\n",
    "    V = rng.choice(X, k_opt)\n",
    "\n",
    "    condition = True\n",
    "    while(condition):\n",
    "        temp = np.copy(Z)\n",
    "        I = calculate_I(X, q, V, k_opt)\n",
    "        Z = calculate_Z(X, I, V, k_opt)\n",
    "        V = calculate_V(X, Z, k_opt)\n",
    "        condition = not np.array_equal(Z, temp)\n",
    "\n",
    "    Z = Z[t]\n",
    "    \n",
    "    k_star.append(np.unique(Z).shape[0])\n",
    "    ari.append(skmt.adjusted_rand_score(label, Z))\n",
    "    nnmi.append(skmt.adjusted_mutual_info_score(label, Z))\n",
    "\n",
    "    print((m + 1), end = \" \")"
   ]
  },
  {
   "cell_type": "code",
   "execution_count": null,
   "id": "0d3d503a-192b-4695-9def-6fb3ad59bf1d",
   "metadata": {},
   "outputs": [],
   "source": [
    "file = open(dataset + \".csv\", \"a\")\n",
    "csvwriter = csv.writer(file)\n",
    "for m in range(m):\n",
    "    csvwriter.writerow([k_star[m], ari[m], nnmi[m]])\n",
    "file.close()"
   ]
  }
 ],
 "metadata": {
  "kernelspec": {
   "display_name": "Python 3 (ipykernel)",
   "language": "python",
   "name": "python3"
  },
  "language_info": {
   "codemirror_mode": {
    "name": "ipython",
    "version": 3
   },
   "file_extension": ".py",
   "mimetype": "text/x-python",
   "name": "python",
   "nbconvert_exporter": "python",
   "pygments_lexer": "ipython3",
   "version": "3.12.5"
  }
 },
 "nbformat": 4,
 "nbformat_minor": 5
}
