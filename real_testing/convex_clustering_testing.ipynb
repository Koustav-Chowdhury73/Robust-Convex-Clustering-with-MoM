{
 "cells": [
  {
   "cell_type": "code",
   "execution_count": null,
   "id": "7498f89b-1042-4383-990a-076782890cae",
   "metadata": {},
   "outputs": [],
   "source": [
    "import csv\n",
    "import numpy as np\n",
    "import matplotlib.pyplot as plt\n",
    "import scipy.io as spi\n",
    "import sklearn.preprocessing as skp\n",
    "import sklearn.neighbors as skn\n",
    "import sklearn.metrics as skmt\n",
    "import scipy.sparse as spr\n",
    "rng = np.random.default_rng(0)\n",
    "scaler = skp.StandardScaler()"
   ]
  },
  {
   "cell_type": "code",
   "execution_count": null,
   "id": "466b64d2-09a6-4f6c-a3b2-ec31cf77d66f",
   "metadata": {},
   "outputs": [],
   "source": [
    "dataset = \"newthyroid\""
   ]
  },
  {
   "cell_type": "code",
   "execution_count": null,
   "id": "00fa16bf-6873-483a-8f38-5fdf9eb24095",
   "metadata": {},
   "outputs": [],
   "source": [
    "file = open(dataset + \".csv\", \"w\")\n",
    "csvwriter = csv.writer(file)\n",
    "csvwriter.writerow([\"k*\", \"ari\", \"nnmi\"])\n",
    "file.close()"
   ]
  },
  {
   "cell_type": "code",
   "execution_count": null,
   "id": "474e703f-24a9-46ba-b838-b7e7d3647047",
   "metadata": {},
   "outputs": [],
   "source": [
    "temp_data = np.loadtxt(\"keel_datasets/\" + dataset + \".dat\", dtype = str, delimiter = \",\", comments = \"@\")\n",
    "data = np.array(temp_data[:, :-1], dtype = float)\n",
    "label = skp.LabelEncoder().fit_transform(temp_data[:, -1])"
   ]
  },
  {
   "cell_type": "raw",
   "id": "96b27eac-23f9-45d8-bc87-efb96297e6a5",
   "metadata": {},
   "source": [
    "temp_data = np.loadtxt(\"microarray_datasets/\" + dataset + \".x.txt\")\n",
    "data = temp_data.T\n",
    "label = np.loadtxt(\"microarray_datasets/\" + dataset + \".y.txt\")"
   ]
  },
  {
   "cell_type": "raw",
   "id": "179ed5a1-4824-487b-89c4-a35dfc951f52",
   "metadata": {},
   "source": [
    "temp_data = spi.loadmat(\"asu_datasets/\" + dataset + \".mat\")\n",
    "data = temp_data[\"X\"]\n",
    "label = temp_data[\"Y\"].flatten()"
   ]
  },
  {
   "cell_type": "code",
   "execution_count": null,
   "id": "2bc31bb7-5c23-433f-a94e-ee026cd7ea86",
   "metadata": {},
   "outputs": [],
   "source": [
    "n, d = data.shape\n",
    "p = 0.1\n",
    "gamma = 10000\n",
    "nu = 1\n",
    "k = 10\n",
    "phi = 0.001\n",
    "N = 100\n",
    "tol = 0.0085\n",
    "\n",
    "t = np.arange(n)"
   ]
  },
  {
   "cell_type": "code",
   "execution_count": null,
   "id": "5406c354-28d3-4a1c-aeac-5a86cf12f908",
   "metadata": {},
   "outputs": [],
   "source": [
    "def add_noise(X):\n",
    "    n, d = X.shape\n",
    "    r = int(p * n)\n",
    "    noise = rng.uniform(0, 1, (r, d))\n",
    "    noise = X.min(0) + (X.max(0) - X.min(0)) * noise\n",
    "    X = np.concatenate((X, noise))\n",
    "    X = scaler.fit_transform(X)\n",
    "    return X"
   ]
  },
  {
   "cell_type": "code",
   "execution_count": null,
   "id": "2c9eeac8-12f5-4d1e-a607-9442a08e6b53",
   "metadata": {},
   "outputs": [],
   "source": [
    "def calculate_I(X):\n",
    "    n = X.shape[0]\n",
    "    temp = skn.kneighbors_graph(X, n_neighbors = k)\n",
    "    temp = temp.toarray()\n",
    "\n",
    "    I = []\n",
    "    for i in range(n):\n",
    "        for j in range(i + 1, n):\n",
    "            if temp[i, j] == 1:\n",
    "                I.append(np.array([i, j]))\n",
    "    I = np.array(I)\n",
    "\n",
    "    return I"
   ]
  },
  {
   "cell_type": "code",
   "execution_count": null,
   "id": "9b43eb95-720a-471f-a1d3-66ef66983c81",
   "metadata": {},
   "outputs": [],
   "source": [
    "def calculate_W(X, I):\n",
    "    s = I.shape[0]\n",
    "    W = np.zeros(s)\n",
    "    for l in range(s):\n",
    "        l1 = I[l, 0]\n",
    "        l2 = I[l, 1]\n",
    "        dist = ((X[l1] - X[l2]) * (X[l1] - X[l2])).sum()\n",
    "        W[l] = np.exp((-phi) * dist)\n",
    "\n",
    "    return W"
   ]
  },
  {
   "cell_type": "code",
   "execution_count": null,
   "id": "d00584e1-8c94-4420-bacc-672912725304",
   "metadata": {},
   "outputs": [],
   "source": [
    "def calculate_U(X, I, V, L):\n",
    "    n, d = X.shape\n",
    "    s = I.shape[0]\n",
    "    s1 = np.zeros([n, d])\n",
    "    s2 = np.zeros([n, n])\n",
    "    for l in range(s):\n",
    "        l1 = I[l, 0]\n",
    "        l2 = I[l, 1]\n",
    "        e = np.zeros(n)\n",
    "        e[l1] = 1\n",
    "        e[l2] = -1\n",
    "        s1 = s1 + np.array([e]).T @ np.array([V[l]])\n",
    "        s2 = s2 + np.array([e]).T @ np.array([e])\n",
    "    MU = X + nu * s1\n",
    "    M = np.identity(n) + nu * s2\n",
    "    U = np.linalg.inv(M) @ MU\n",
    "    return U"
   ]
  },
  {
   "cell_type": "code",
   "execution_count": null,
   "id": "57f3c4d2-e14c-4db2-8e85-1908eae315a6",
   "metadata": {},
   "outputs": [],
   "source": [
    "def calculate_V(I, W, U, L):\n",
    "    n, d = U.shape\n",
    "    s = I.shape[0]\n",
    "    V = np.zeros([s, d])\n",
    "    for l in range(s):\n",
    "        l1 = I[l, 0]\n",
    "        l2 = I[l, 1]\n",
    "        sigma = (gamma * W[l]) / nu\n",
    "        temp = U[l1] - U[l2] - (1 / nu) * L[l]\n",
    "        V[l] = np.maximum(0, np.abs(temp) - sigma) * np.sign(temp)\n",
    "    return V"
   ]
  },
  {
   "cell_type": "code",
   "execution_count": null,
   "id": "c3167233-4151-4bbf-917d-98ab6f582d17",
   "metadata": {},
   "outputs": [],
   "source": [
    "def calculate_L(I, U, V, L):\n",
    "    s = I.shape[0]\n",
    "    new_L = np.copy(L)\n",
    "    for l in range(s):\n",
    "        l1 = I[l, 0]\n",
    "        l2 = I[l, 1]\n",
    "        new_L[l] = new_L[l] + nu * (V[l] - U[l1] + U[l2])\n",
    "    return new_L"
   ]
  },
  {
   "cell_type": "code",
   "execution_count": null,
   "id": "5ae9269c-bea4-48aa-9ca4-bac6b9e4ffbd",
   "metadata": {},
   "outputs": [],
   "source": [
    "k_star = []\n",
    "ari = []\n",
    "nnmi = []\n",
    "\n",
    "for m in range(15):\n",
    "    \n",
    "    X = add_noise(data)\n",
    "    X = scaler.fit_transform(X)\n",
    "    \n",
    "    I = calculate_I(X)\n",
    "    W = calculate_W(X, I)\n",
    "    n, d = X.shape\n",
    "    s = I.shape[0]\n",
    "\n",
    "    U = np.copy(X)\n",
    "    V = np.zeros([s, d])\n",
    "    for l in range(s):\n",
    "        l1 = I[l, 0]\n",
    "        l2 = I[l, 1]\n",
    "        V[l] = U[l1] - U[l2]\n",
    "    L = np.zeros([s, d])\n",
    "\n",
    "    for i in range(N):\n",
    "        U = calculate_U(X, I, V, L)\n",
    "        temp_V = calculate_V(I, W, U, L)\n",
    "        L = calculate_L(I, U, temp_V, L)\n",
    "        V = np.copy(temp_V)\n",
    "\n",
    "    W_U = skmt.pairwise_distances(U) ** 2\n",
    "    eta = tol * (W_U.sum() / (n ** 2))\n",
    "\n",
    "    adj = (W_U <= eta).astype(int)\n",
    "    temp = spr.csr_matrix(adj)\n",
    "    r, Z = spr.csgraph.connected_components(temp, directed = False)\n",
    "\n",
    "    Z = Z[t]\n",
    "\n",
    "    k_star.append(np.unique(Z).shape[0])\n",
    "    ari.append(skmt.adjusted_rand_score(label, Z))\n",
    "    nnmi.append(skmt.adjusted_mutual_info_score(label, Z))\n",
    "\n",
    "    print((m + 1), end = \" \")"
   ]
  },
  {
   "cell_type": "code",
   "execution_count": null,
   "id": "7fc364a9-a666-4f2b-99a4-38e0335dd20d",
   "metadata": {},
   "outputs": [],
   "source": [
    "file = open(dataset + \".csv\", \"a\")\n",
    "csvwriter = csv.writer(file)\n",
    "for m in range(m):\n",
    "    csvwriter.writerow([k_star[m], ari[m], nnmi[m]])\n",
    "file.close()"
   ]
  }
 ],
 "metadata": {
  "kernelspec": {
   "display_name": "Python 3 (ipykernel)",
   "language": "python",
   "name": "python3"
  },
  "language_info": {
   "codemirror_mode": {
    "name": "ipython",
    "version": 3
   },
   "file_extension": ".py",
   "mimetype": "text/x-python",
   "name": "python",
   "nbconvert_exporter": "python",
   "pygments_lexer": "ipython3",
   "version": "3.12.5"
  }
 },
 "nbformat": 4,
 "nbformat_minor": 5
}
