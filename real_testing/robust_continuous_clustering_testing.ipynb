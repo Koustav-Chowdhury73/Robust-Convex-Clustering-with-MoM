{
 "cells": [
  {
   "cell_type": "code",
   "execution_count": null,
   "id": "99f16711-9c07-47a1-ada4-6dd3b93d4d05",
   "metadata": {},
   "outputs": [],
   "source": [
    "import csv\n",
    "import numpy as np\n",
    "import matplotlib.pyplot as plt\n",
    "import scipy.io as spi\n",
    "import sklearn.preprocessing as skp\n",
    "import sklearn.neighbors as skn\n",
    "import sklearn.metrics as skmt\n",
    "import scipy.sparse as spr\n",
    "rng = np.random.default_rng(0)\n",
    "scaler = skp.StandardScaler()"
   ]
  },
  {
   "cell_type": "code",
   "execution_count": null,
   "id": "10169474-a232-4ab8-85cb-30d357dbd99d",
   "metadata": {},
   "outputs": [],
   "source": [
    "dataset = \"newthyroid\""
   ]
  },
  {
   "cell_type": "code",
   "execution_count": null,
   "id": "57d1ce20-abac-45da-b7ad-ddd57e6c2a7d",
   "metadata": {},
   "outputs": [],
   "source": [
    "file = open(dataset + \".csv\", \"w\")\n",
    "csvwriter = csv.writer(file)\n",
    "csvwriter.writerow([\"k*\", \"ari\", \"nnmi\"])\n",
    "file.close()"
   ]
  },
  {
   "cell_type": "code",
   "execution_count": null,
   "id": "ad4296fa-f3e4-4ef0-bd4b-0d167614fbb7",
   "metadata": {},
   "outputs": [],
   "source": [
    "temp_data = np.loadtxt(\"keel_datasets/\" + dataset + \".dat\", dtype = str, delimiter = \",\", comments = \"@\")\n",
    "data = np.array(temp_data[:, :-1], dtype = float)\n",
    "label = skp.LabelEncoder().fit_transform(temp_data[:, -1])"
   ]
  },
  {
   "cell_type": "raw",
   "id": "bc92425d-5b62-49b8-b348-3f5b6595e227",
   "metadata": {},
   "source": [
    "temp_data = np.loadtxt(\"microarray_datasets/\" + dataset + \".x.txt\")\n",
    "data = temp_data.T\n",
    "label = np.loadtxt(\"microarray_datasets/\" + dataset + \".y.txt\")"
   ]
  },
  {
   "cell_type": "raw",
   "id": "7ade24a6-441e-4393-bfda-fff76b5b0cc2",
   "metadata": {},
   "source": [
    "temp_data = spi.loadmat(\"asu_datasets/\" + dataset + \"ORL.mat\")\n",
    "data = temp_data[\"X\"]\n",
    "label = temp_data[\"Y\"].flatten()"
   ]
  },
  {
   "cell_type": "code",
   "execution_count": null,
   "id": "2bc31bb7-5c23-433f-a94e-ee026cd7ea86",
   "metadata": {},
   "outputs": [],
   "source": [
    "n, d = data.shape\n",
    "p = 0.1\n",
    "\n",
    "t = np.arange(n)"
   ]
  },
  {
   "cell_type": "code",
   "execution_count": null,
   "id": "5406c354-28d3-4a1c-aeac-5a86cf12f908",
   "metadata": {},
   "outputs": [],
   "source": [
    "def add_noise(X):\n",
    "    n, d = X.shape\n",
    "    r = int(p * n)\n",
    "    noise = rng.uniform(0, 1, (r, d))\n",
    "    noise = X.min(0) + (X.max(0) - X.min(0)) * noise\n",
    "    X = np.concatenate((X, noise))\n",
    "    X = scaler.fit_transform(X)\n",
    "    return X"
   ]
  },
  {
   "cell_type": "code",
   "execution_count": null,
   "id": "e8669cd6-1545-4e3a-94f3-3b62b04612fa",
   "metadata": {},
   "outputs": [],
   "source": [
    "def calculate_E(X):\n",
    "    n = X.shape[0]\n",
    "    E = skn.kneighbors_graph(X, n_neighbors = 10, metric = \"cosine\")\n",
    "    E = E.toarray()\n",
    "    return E"
   ]
  },
  {
   "cell_type": "code",
   "execution_count": null,
   "id": "2c9eeac8-12f5-4d1e-a607-9442a08e6b53",
   "metadata": {},
   "outputs": [],
   "source": [
    "def calculate_I(E):\n",
    "    n = E.shape[0]\n",
    "    \n",
    "    I = []\n",
    "    for i in range(n):\n",
    "        for j in range(i + 1, n):\n",
    "            E[i, j] = np.min([E[i, j], E[j, i]])\n",
    "            E[j, i] = E[i, j]\n",
    "            if E[i, j] == 1:\n",
    "                I.append(np.array([i, j]))\n",
    "    I = np.array(I)\n",
    "    \n",
    "    return I"
   ]
  },
  {
   "cell_type": "code",
   "execution_count": null,
   "id": "63659e56-6178-4c5b-b19f-13baedeb6d58",
   "metadata": {},
   "outputs": [],
   "source": [
    "def calculate_W(E, I):\n",
    "    n = E.shape[0]\n",
    "    s = I.shape[0]\n",
    "    deg = E.sum(0)\n",
    "    \n",
    "    W = np.zeros(s)\n",
    "    for l in range(s):\n",
    "        l1 = I[l, 0]\n",
    "        l2 = I[l, 1]\n",
    "        W[l] = 1 / (n * np.sqrt(deg[l1] * deg[l2]))\n",
    "    W = W * deg.sum()\n",
    "\n",
    "    return W"
   ]
  },
  {
   "cell_type": "code",
   "execution_count": null,
   "id": "bc4df44a-2cf3-465e-b557-64ebb7b69da2",
   "metadata": {},
   "outputs": [],
   "source": [
    "def calculate_cost(X, I, U, gamma, mu):\n",
    "    n, d = X.shape\n",
    "    s = I.shape[0]\n",
    "    cost = 0\n",
    "    for i in range(n):\n",
    "        cost = cost + 0.5 * ((X[i] - U[i]) * (X[i] - U[i])).sum()\n",
    "    for l in range(s):\n",
    "        l1 = I[l, 0]\n",
    "        l2 = I[l, 1]\n",
    "        temp = ((U[l1] - U[l2]) * (U[l1] - U[l2])).sum()\n",
    "        cost = cost + (gamma / 2) * W[l] * ((mu * temp) / (mu + temp))\n",
    "    return cost"
   ]
  },
  {
   "cell_type": "code",
   "execution_count": null,
   "id": "c3167233-4151-4bbf-917d-98ab6f582d17",
   "metadata": {},
   "outputs": [],
   "source": [
    "def calculate_L(I, U, mu):\n",
    "    s = I.shape[0]\n",
    "    L = np.zeros(s)\n",
    "    for l in range(s):\n",
    "        l1 = I[l, 0]\n",
    "        l2 = I[l, 1]\n",
    "        temp = ((U[l1] - U[l2]) * (U[l1] - U[l2])).sum()\n",
    "        L[l] = (mu / (mu + temp)) ** 2\n",
    "    return L"
   ]
  },
  {
   "cell_type": "code",
   "execution_count": null,
   "id": "926ad0cf-4f21-4fce-bfc4-53a4d4c1d5fc",
   "metadata": {},
   "outputs": [],
   "source": [
    "def calculate_A(n, I, L):\n",
    "    s = I.shape[0]\n",
    "    A = np.zeros([n, n])\n",
    "    for l in range(s):\n",
    "        l1 = I[l, 0]\n",
    "        l2 = I[l, 1]\n",
    "        e = np.zeros(n)\n",
    "        e[l1] = 1\n",
    "        e[l2] = -1\n",
    "        A = A + W[l] * L[l] * (np.array([e]).T @ np.array([e]))\n",
    "    return A"
   ]
  },
  {
   "cell_type": "code",
   "execution_count": null,
   "id": "d00584e1-8c94-4420-bacc-672912725304",
   "metadata": {},
   "outputs": [],
   "source": [
    "def calculate_U(X, A, gamma):\n",
    "    n, d = X.shape\n",
    "    M = np.identity(n) + gamma * A\n",
    "    U = np.linalg.inv(M) @ X\n",
    "    return U"
   ]
  },
  {
   "cell_type": "code",
   "execution_count": null,
   "id": "5ae9269c-bea4-48aa-9ca4-bac6b9e4ffbd",
   "metadata": {},
   "outputs": [],
   "source": [
    "k_star = []\n",
    "ari = []\n",
    "nnmi = []\n",
    "\n",
    "for m in range(15):\n",
    "    \n",
    "    X = add_noise(data)\n",
    "    X = scaler.fit_transform(X)\n",
    "    \n",
    "    E = calculate_E(X)\n",
    "    I = calculate_I(E)\n",
    "    W = calculate_W(E, I)\n",
    "    n, d = X.shape\n",
    "    s = I.shape[0]\n",
    "\n",
    "    chi = np.sqrt((X * X).sum())\n",
    "    temp = E * skmt.pairwise_distances(X)\n",
    "    temp = np.sort(temp.flatten())\n",
    "    r = int(0.02 * temp.shape[0])\n",
    "    delta = temp[np.arange(r)].mean()\n",
    "\n",
    "    U = np.copy(X)\n",
    "    L = np.ones(s)\n",
    "    temp = E * skmt.pairwise_distances(X)\n",
    "    mu = 3 * (np.max(temp) ** 2)\n",
    "    temp = calculate_A(n, I, L)\n",
    "    gamma = chi / np.sqrt((temp * temp).sum())\n",
    "    cost = calculate_cost(X, I, U, gamma, mu)\n",
    "\n",
    "    condition = True\n",
    "    i = 0\n",
    "    while(condition):\n",
    "        temp = cost\n",
    "        L = calculate_L(I, U, mu)\n",
    "        A = calculate_A(n, I, L)\n",
    "        U = calculate_U(X, A, gamma)\n",
    "        i = i + 1\n",
    "        if i % 4 == 0:\n",
    "            mu = np.max([mu / 2, delta / 2])\n",
    "            gamma = chi / np.sqrt((A * A).sum())\n",
    "        cost = calculate_cost(X, I, U, gamma, mu)\n",
    "        condition = (np.absolute(cost - temp) < 0.1) or (i < 100)\n",
    "\n",
    "    W_U = skmt.pairwise_distances(U) ** 2\n",
    "    adj = (W_U <= delta).astype(int)\n",
    "    temp = spr.csr_matrix(adj)\n",
    "    r, Z = spr.csgraph.connected_components(temp, directed = False)\n",
    "\n",
    "    Z = Z[t]\n",
    "\n",
    "    k_star.append(np.unique(Z).shape[0])\n",
    "    ari.append(skmt.adjusted_rand_score(label, Z))\n",
    "    nnmi.append(skmt.adjusted_mutual_info_score(label, Z))\n",
    "\n",
    "    print((m + 1), end = \" \")"
   ]
  },
  {
   "cell_type": "code",
   "execution_count": null,
   "id": "7fc364a9-a666-4f2b-99a4-38e0335dd20d",
   "metadata": {},
   "outputs": [],
   "source": [
    "file = open(dataset + \".csv\", \"a\")\n",
    "csvwriter = csv.writer(file)\n",
    "for m in range(m):\n",
    "    csvwriter.writerow([k_star[m], ari[m], nnmi[m]])\n",
    "file.close()"
   ]
  }
 ],
 "metadata": {
  "kernelspec": {
   "display_name": "Python 3 (ipykernel)",
   "language": "python",
   "name": "python3"
  },
  "language_info": {
   "codemirror_mode": {
    "name": "ipython",
    "version": 3
   },
   "file_extension": ".py",
   "mimetype": "text/x-python",
   "name": "python",
   "nbconvert_exporter": "python",
   "pygments_lexer": "ipython3",
   "version": "3.12.5"
  }
 },
 "nbformat": 4,
 "nbformat_minor": 5
}
